{
 "cells": [
  {
   "cell_type": "code",
   "execution_count": 13,
   "id": "8c199964",
   "metadata": {},
   "outputs": [],
   "source": [
    "# import pandas and rename as pd\n",
    "import pandas as pd"
   ]
  },
  {
   "cell_type": "code",
   "execution_count": 14,
   "id": "779c0853",
   "metadata": {
    "scrolled": true
   },
   "outputs": [],
   "source": [
    "# set the path to our file\n",
    "path = 'sothebys_dataset.csv'\n",
    "# convert our csv file to a pandas DataFrame\n",
    "dataset = pd.read_csv(path)"
   ]
  },
  {
   "cell_type": "code",
   "execution_count": 15,
   "id": "232d3687",
   "metadata": {},
   "outputs": [
    {
     "data": {
      "text/html": [
       "<div>\n",
       "<style scoped>\n",
       "    .dataframe tbody tr th:only-of-type {\n",
       "        vertical-align: middle;\n",
       "    }\n",
       "\n",
       "    .dataframe tbody tr th {\n",
       "        vertical-align: top;\n",
       "    }\n",
       "\n",
       "    .dataframe thead th {\n",
       "        text-align: right;\n",
       "    }\n",
       "</style>\n",
       "<table border=\"1\" class=\"dataframe\">\n",
       "  <thead>\n",
       "    <tr style=\"text-align: right;\">\n",
       "      <th></th>\n",
       "      <th>Unnamed: 0</th>\n",
       "      <th>price</th>\n",
       "      <th>artist</th>\n",
       "      <th>title</th>\n",
       "      <th>yearCreation</th>\n",
       "      <th>signed</th>\n",
       "      <th>condition</th>\n",
       "      <th>period</th>\n",
       "      <th>movement</th>\n",
       "    </tr>\n",
       "  </thead>\n",
       "  <tbody>\n",
       "    <tr>\n",
       "      <th>0</th>\n",
       "      <td>0</td>\n",
       "      <td>28.500 USD</td>\n",
       "      <td>Tommaso Ottieri</td>\n",
       "      <td>Bayreuth Opera</td>\n",
       "      <td>2021</td>\n",
       "      <td>Signed on verso</td>\n",
       "      <td>This work is in excellent condition.</td>\n",
       "      <td>Contemporary</td>\n",
       "      <td>Baroque</td>\n",
       "    </tr>\n",
       "    <tr>\n",
       "      <th>1</th>\n",
       "      <td>1</td>\n",
       "      <td>3.000 USD</td>\n",
       "      <td>Pavel Tchelitchew</td>\n",
       "      <td>Drawings of the Opera</td>\n",
       "      <td>First Half 20th Century</td>\n",
       "      <td>Signed and titled</td>\n",
       "      <td>Not examined out of frame.No obvious signs of ...</td>\n",
       "      <td>Post-War</td>\n",
       "      <td>Surrealism</td>\n",
       "    </tr>\n",
       "    <tr>\n",
       "      <th>2</th>\n",
       "      <td>2</td>\n",
       "      <td>5.000 USD</td>\n",
       "      <td>Leo Gabin</td>\n",
       "      <td>Two on Sidewalk</td>\n",
       "      <td>2016</td>\n",
       "      <td>Signed, titled and dated on verso</td>\n",
       "      <td>This work is in excellent condition.</td>\n",
       "      <td>Contemporary</td>\n",
       "      <td>Abstract</td>\n",
       "    </tr>\n",
       "    <tr>\n",
       "      <th>3</th>\n",
       "      <td>3</td>\n",
       "      <td>5.000 USD</td>\n",
       "      <td>Matthias Dornfeld</td>\n",
       "      <td>Blumenszene</td>\n",
       "      <td>2010</td>\n",
       "      <td>Signed, titled and dated on the reverse with t...</td>\n",
       "      <td>This work is in excellent condition.There is m...</td>\n",
       "      <td>Contemporary</td>\n",
       "      <td>Abstract</td>\n",
       "    </tr>\n",
       "    <tr>\n",
       "      <th>4</th>\n",
       "      <td>4</td>\n",
       "      <td>2.500 USD</td>\n",
       "      <td>Alexis Marguerite Teplin</td>\n",
       "      <td>Feverish Embarkation</td>\n",
       "      <td>2001</td>\n",
       "      <td>Signed on verso</td>\n",
       "      <td>This work is in excellent condition.</td>\n",
       "      <td>Contemporary</td>\n",
       "      <td>Abstract</td>\n",
       "    </tr>\n",
       "    <tr>\n",
       "      <th>...</th>\n",
       "      <td>...</td>\n",
       "      <td>...</td>\n",
       "      <td>...</td>\n",
       "      <td>...</td>\n",
       "      <td>...</td>\n",
       "      <td>...</td>\n",
       "      <td>...</td>\n",
       "      <td>...</td>\n",
       "      <td>...</td>\n",
       "    </tr>\n",
       "    <tr>\n",
       "      <th>749</th>\n",
       "      <td>749</td>\n",
       "      <td>680 USD</td>\n",
       "      <td>Jane Kent</td>\n",
       "      <td>Miracle Grow #17</td>\n",
       "      <td>2012</td>\n",
       "      <td>Signed and dated on lower right.</td>\n",
       "      <td>Not examined out of frame.No obvious signs of ...</td>\n",
       "      <td>Contemporary</td>\n",
       "      <td>Abstract</td>\n",
       "    </tr>\n",
       "    <tr>\n",
       "      <th>750</th>\n",
       "      <td>750</td>\n",
       "      <td>1.275 USD</td>\n",
       "      <td>Gary Bower</td>\n",
       "      <td>Rolph Series</td>\n",
       "      <td>1970</td>\n",
       "      <td>[nan]</td>\n",
       "      <td>Not examined out of frame.Significant undulati...</td>\n",
       "      <td>Contemporary</td>\n",
       "      <td>Geometric Abstraction</td>\n",
       "    </tr>\n",
       "    <tr>\n",
       "      <th>751</th>\n",
       "      <td>751</td>\n",
       "      <td>680 USD</td>\n",
       "      <td>Jane Kent</td>\n",
       "      <td>Untitled</td>\n",
       "      <td>2012</td>\n",
       "      <td>[nan]</td>\n",
       "      <td>Not examined out of frame.No apparent imperfec...</td>\n",
       "      <td>Contemporary</td>\n",
       "      <td>Geometric Abstraction</td>\n",
       "    </tr>\n",
       "    <tr>\n",
       "      <th>752</th>\n",
       "      <td>752</td>\n",
       "      <td>1.275 USD</td>\n",
       "      <td>T. L. Solien</td>\n",
       "      <td>Juniper</td>\n",
       "      <td>1986</td>\n",
       "      <td>[nan]</td>\n",
       "      <td>Not examined outside of frame.Pinholes at edge...</td>\n",
       "      <td>Contemporary</td>\n",
       "      <td>Abstract</td>\n",
       "    </tr>\n",
       "    <tr>\n",
       "      <th>753</th>\n",
       "      <td>753</td>\n",
       "      <td>680 USD</td>\n",
       "      <td>John Duff</td>\n",
       "      <td>Untitled Print</td>\n",
       "      <td>1975</td>\n",
       "      <td>Signed, dated and numbered in pencil.</td>\n",
       "      <td>Not examined out of frame.Scattered surface sc...</td>\n",
       "      <td>Modern</td>\n",
       "      <td>Geometric Abstraction</td>\n",
       "    </tr>\n",
       "  </tbody>\n",
       "</table>\n",
       "<p>754 rows × 9 columns</p>\n",
       "</div>"
      ],
      "text/plain": [
       "     Unnamed: 0       price                    artist                  title  \\\n",
       "0             0  28.500 USD           Tommaso Ottieri         Bayreuth Opera   \n",
       "1             1   3.000 USD         Pavel Tchelitchew  Drawings of the Opera   \n",
       "2             2   5.000 USD                 Leo Gabin        Two on Sidewalk   \n",
       "3             3   5.000 USD         Matthias Dornfeld            Blumenszene   \n",
       "4             4   2.500 USD  Alexis Marguerite Teplin   Feverish Embarkation   \n",
       "..          ...         ...                       ...                    ...   \n",
       "749         749     680 USD                 Jane Kent       Miracle Grow #17   \n",
       "750         750   1.275 USD                Gary Bower           Rolph Series   \n",
       "751         751     680 USD                 Jane Kent               Untitled   \n",
       "752         752   1.275 USD              T. L. Solien                Juniper   \n",
       "753         753     680 USD                 John Duff         Untitled Print   \n",
       "\n",
       "                 yearCreation  \\\n",
       "0                        2021   \n",
       "1    First Half 20th Century    \n",
       "2                        2016   \n",
       "3                        2010   \n",
       "4                        2001   \n",
       "..                        ...   \n",
       "749                      2012   \n",
       "750                      1970   \n",
       "751                      2012   \n",
       "752                      1986   \n",
       "753                      1975   \n",
       "\n",
       "                                                signed  \\\n",
       "0                                      Signed on verso   \n",
       "1                                    Signed and titled   \n",
       "2                    Signed, titled and dated on verso   \n",
       "3    Signed, titled and dated on the reverse with t...   \n",
       "4                                      Signed on verso   \n",
       "..                                                 ...   \n",
       "749                   Signed and dated on lower right.   \n",
       "750                                              [nan]   \n",
       "751                                              [nan]   \n",
       "752                                              [nan]   \n",
       "753              Signed, dated and numbered in pencil.   \n",
       "\n",
       "                                             condition        period  \\\n",
       "0                 This work is in excellent condition.  Contemporary   \n",
       "1    Not examined out of frame.No obvious signs of ...      Post-War   \n",
       "2                 This work is in excellent condition.  Contemporary   \n",
       "3    This work is in excellent condition.There is m...  Contemporary   \n",
       "4                 This work is in excellent condition.  Contemporary   \n",
       "..                                                 ...           ...   \n",
       "749  Not examined out of frame.No obvious signs of ...  Contemporary   \n",
       "750  Not examined out of frame.Significant undulati...  Contemporary   \n",
       "751  Not examined out of frame.No apparent imperfec...  Contemporary   \n",
       "752  Not examined outside of frame.Pinholes at edge...  Contemporary   \n",
       "753  Not examined out of frame.Scattered surface sc...        Modern   \n",
       "\n",
       "                  movement  \n",
       "0                  Baroque  \n",
       "1               Surrealism  \n",
       "2                 Abstract  \n",
       "3                 Abstract  \n",
       "4                 Abstract  \n",
       "..                     ...  \n",
       "749               Abstract  \n",
       "750  Geometric Abstraction  \n",
       "751  Geometric Abstraction  \n",
       "752               Abstract  \n",
       "753  Geometric Abstraction  \n",
       "\n",
       "[754 rows x 9 columns]"
      ]
     },
     "execution_count": 15,
     "metadata": {},
     "output_type": "execute_result"
    }
   ],
   "source": [
    "# print out our pandas DataFrame\n",
    "dataset"
   ]
  },
  {
   "cell_type": "code",
   "execution_count": 16,
   "id": "d654e6f6",
   "metadata": {},
   "outputs": [],
   "source": [
    "# we can use dot notation, because we are using the pandas library AND\n",
    "# no space in the column\n",
    "artist = dataset.artist"
   ]
  },
  {
   "cell_type": "code",
   "execution_count": 17,
   "id": "187ca7c8",
   "metadata": {},
   "outputs": [
    {
     "data": {
      "text/plain": [
       "'Tommaso Ottieri'"
      ]
     },
     "execution_count": 17,
     "metadata": {},
     "output_type": "execute_result"
    }
   ],
   "source": [
    "# print the first value in our data\n",
    "artist[0]"
   ]
  },
  {
   "cell_type": "code",
   "execution_count": 38,
   "id": "71dc716f",
   "metadata": {},
   "outputs": [
    {
     "data": {
      "text/plain": [
       "str"
      ]
     },
     "execution_count": 38,
     "metadata": {},
     "output_type": "execute_result"
    }
   ],
   "source": [
    "# check what data type this is\n",
    "type(artist[0])"
   ]
  },
  {
   "cell_type": "code",
   "execution_count": 19,
   "id": "a81ba6b0",
   "metadata": {},
   "outputs": [
    {
     "data": {
      "text/plain": [
       "455"
      ]
     },
     "execution_count": 19,
     "metadata": {},
     "output_type": "execute_result"
    }
   ],
   "source": [
    "len(dataset.artist.unique())"
   ]
  },
  {
   "cell_type": "code",
   "execution_count": 36,
   "id": "a3caaf69",
   "metadata": {},
   "outputs": [
    {
     "name": "stdout",
     "output_type": "stream",
     "text": [
      "male\n",
      "female\n",
      "unknown\n"
     ]
    }
   ],
   "source": [
    "# importing a gender detecting tool to guess my artist's gender\n",
    "# pip install gender-guesser\n",
    "import gender_guesser.detector as gender\n",
    "d = gender.Detector()\n",
    "print(d.get_gender(u\"Leo\"))\n",
    "print(d.get_gender(u\"Jane\"))\n",
    "print(d.get_gender(u\"Jane Kent\"))\n",
    "# this does not work with multiple names, such as surnames so we will have to turn the artist column into a list\n",
    "# and use only the first value\n",
    "# of course this will not work for instances such as \"T. L. Solien\""
   ]
  },
  {
   "cell_type": "code",
   "execution_count": 44,
   "id": "7fd33b2a",
   "metadata": {},
   "outputs": [
    {
     "ename": "SyntaxError",
     "evalue": "invalid syntax (2560390098.py, line 2)",
     "output_type": "error",
     "traceback": [
      "\u001b[1;36m  Cell \u001b[1;32mIn[44], line 2\u001b[1;36m\u001b[0m\n\u001b[1;33m    name for name in first_name:\u001b[0m\n\u001b[1;37m         ^\u001b[0m\n\u001b[1;31mSyntaxError\u001b[0m\u001b[1;31m:\u001b[0m invalid syntax\n"
     ]
    }
   ],
   "source": [
    "first_name = []\n",
    "name for name in first_name:\n",
    "    full_name = dataset['artist'].split(' ')\n",
    "    full_name.append(name)"
   ]
  },
  {
   "cell_type": "code",
   "execution_count": null,
   "id": "4dbf9a07",
   "metadata": {},
   "outputs": [],
   "source": []
  },
  {
   "cell_type": "code",
   "execution_count": null,
   "id": "17f409aa",
   "metadata": {},
   "outputs": [],
   "source": []
  },
  {
   "cell_type": "code",
   "execution_count": null,
   "id": "a4511711",
   "metadata": {},
   "outputs": [],
   "source": []
  },
  {
   "cell_type": "code",
   "execution_count": null,
   "id": "19f8cbc2",
   "metadata": {},
   "outputs": [],
   "source": []
  },
  {
   "cell_type": "code",
   "execution_count": null,
   "id": "89f32da8",
   "metadata": {},
   "outputs": [],
   "source": []
  },
  {
   "cell_type": "code",
   "execution_count": null,
   "id": "9ca69e0a",
   "metadata": {},
   "outputs": [],
   "source": [
    "first_names = []\n",
    "for x in range(0,754):\n",
    "    name = str(dataset['artist'].values[x]).split(' ', 1)[0]\n",
    "    first_names.append(name)\n",
    "# lowercase everything\n",
    "first_names = [k.lower() for k in first_names]\n",
    "# capitalize the first letter of every name\n",
    "first_names = [i.capitalize() for i in first_names]\n",
    "# %%time\n",
    "genders = []\n",
    "for i in first_names[0:len(first_names)]:\n",
    "    if d.get_gender(i) == 'male':\n",
    "        genders.append('male')\n",
    "    elif d.get_gender(i) == 'female':\n",
    "        genders.append('female')\n",
    "    else:\n",
    "        genders.append('unknown')"
   ]
  }
 ],
 "metadata": {
  "kernelspec": {
   "display_name": "Python 3 (ipykernel)",
   "language": "python",
   "name": "python3"
  },
  "language_info": {
   "codemirror_mode": {
    "name": "ipython",
    "version": 3
   },
   "file_extension": ".py",
   "mimetype": "text/x-python",
   "name": "python",
   "nbconvert_exporter": "python",
   "pygments_lexer": "ipython3",
   "version": "3.11.0"
  }
 },
 "nbformat": 4,
 "nbformat_minor": 5
}
